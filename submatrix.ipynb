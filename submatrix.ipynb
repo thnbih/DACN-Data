{
 "cells": [
  {
   "cell_type": "markdown",
   "id": "d030cc3e",
   "metadata": {},
   "source": [
    "# Import"
   ]
  },
  {
   "cell_type": "code",
   "execution_count": 1,
   "id": "a86e06fe",
   "metadata": {},
   "outputs": [],
   "source": [
    "import os\n",
    "import json\n",
    "import torch\n",
    "import torch.nn as nn\n",
    "from torch.utils.data import Dataset, DataLoader\n",
    "import torch.optim as optim\n",
    "from sklearn.metrics import accuracy_score"
   ]
  },
  {
   "cell_type": "markdown",
   "id": "24a26ac0",
   "metadata": {},
   "source": [
    "# Config dataset"
   ]
  },
  {
   "cell_type": "code",
   "execution_count": 2,
   "id": "7779ed02",
   "metadata": {},
   "outputs": [],
   "source": [
    "class ConfigIssueDataset(Dataset):\n",
    "    def __init__(self, benign_folder, issue_folder, seq_len=128, vocab_size=3502, unk_idx=0):\n",
    "        self.samples = []\n",
    "        self.labels = []\n",
    "        self.seq_len = seq_len\n",
    "        self.vocab_size = vocab_size\n",
    "        self.unk_idx = unk_idx\n",
    "\n",
    "        def load_folder(folder_path, label):\n",
    "            for file in os.listdir(folder_path):\n",
    "                if file.endswith(\".json\"):\n",
    "                    with open(os.path.join(folder_path, file)) as f:\n",
    "                        tokens = json.load(f)\n",
    "                        # Chuyển token ngoài vocab thành unk\n",
    "                        tokens = [i if i < vocab_size else unk_idx for i in tokens]\n",
    "                        for i in range(0, len(tokens) - seq_len + 1, seq_len):\n",
    "                            self.samples.append(tokens[i:i+seq_len])\n",
    "                            self.labels.append(label)\n",
    "\n",
    "        load_folder(benign_folder, label=0)\n",
    "        load_folder(issue_folder, label=1)\n",
    "\n",
    "    def __len__(self):\n",
    "        return len(self.samples)\n",
    "\n",
    "    def __getitem__(self, idx):\n",
    "        x = torch.tensor(self.samples[idx], dtype=torch.long)\n",
    "        y = torch.tensor(self.labels[idx], dtype=torch.long)\n",
    "        return x, y"
   ]
  },
  {
   "cell_type": "markdown",
   "id": "28d71b1f",
   "metadata": {},
   "source": [
    "# Embedding + LSTM + Classifier"
   ]
  },
  {
   "cell_type": "code",
   "execution_count": 3,
   "id": "13c01b18",
   "metadata": {},
   "outputs": [],
   "source": [
    "class LSTMClassifier(nn.Module):\n",
    "    def __init__(self, vocab_size, embedding_dim=128, hidden_dim=256, num_layers=2):\n",
    "        super().__init__()\n",
    "        self.embedding = nn.Embedding(vocab_size, embedding_dim)\n",
    "        self.lstm = nn.LSTM(embedding_dim, hidden_dim, num_layers, batch_first=True)\n",
    "        self.classifier = nn.Sequential(\n",
    "            nn.Linear(hidden_dim, 64),\n",
    "            nn.ReLU(),\n",
    "            nn.Linear(64, 2)  # 2 lớp: benign / issue\n",
    "        )\n",
    "\n",
    "    def forward(self, x):\n",
    "        embedded = self.embedding(x)\n",
    "        _, (h_n, _) = self.lstm(embedded)\n",
    "        last_hidden = h_n[-1]  # lấy hidden của layer cuối\n",
    "        out = self.classifier(last_hidden)\n",
    "        return out"
   ]
  },
  {
   "cell_type": "markdown",
   "id": "7ae39373",
   "metadata": {},
   "source": [
    "# Training Loop"
   ]
  },
  {
   "cell_type": "code",
   "execution_count": 4,
   "id": "d0104bdd",
   "metadata": {},
   "outputs": [
    {
     "name": "stdout",
     "output_type": "stream",
     "text": [
      "Epoch 1: Loss = 5.0304, Accuracy = 0.6463\n",
      "Epoch 2: Loss = 2.1373, Accuracy = 0.9518\n",
      "Epoch 3: Loss = 2.1318, Accuracy = 0.9518\n",
      "Epoch 4: Loss = 1.9618, Accuracy = 0.9518\n",
      "Epoch 5: Loss = 1.8812, Accuracy = 0.9518\n",
      "Epoch 6: Loss = 1.9002, Accuracy = 0.9518\n",
      "Epoch 7: Loss = 1.8942, Accuracy = 0.9518\n",
      "Epoch 8: Loss = 1.7961, Accuracy = 0.9518\n",
      "Epoch 9: Loss = 1.6363, Accuracy = 0.9518\n",
      "Epoch 10: Loss = 1.4309, Accuracy = 0.9518\n"
     ]
    }
   ],
   "source": [
    "dataset = ConfigIssueDataset(\"output_mysql_benign_tokens\", \"output_mysql_issue_tokens\")\n",
    "dataloader = DataLoader(dataset, batch_size=32, shuffle=True)\n",
    "\n",
    "# Model\n",
    "model = LSTMClassifier(vocab_size=3502)\n",
    "device = torch.device(\"cuda\" if torch.cuda.is_available() else \"cpu\")\n",
    "model = model.to(device)\n",
    "\n",
    "# Loss & Optimizer\n",
    "criterion = nn.CrossEntropyLoss()\n",
    "optimizer = optim.Adam(model.parameters(), lr=1e-3)\n",
    "\n",
    "# Training\n",
    "for epoch in range(10):\n",
    "    model.train()\n",
    "    all_preds, all_labels = [], []\n",
    "    total_loss = 0\n",
    "    for x, y in dataloader:\n",
    "        x, y = x.to(device), y.to(device)\n",
    "        optimizer.zero_grad()\n",
    "        output = model(x)\n",
    "        loss = criterion(output, y)\n",
    "        loss.backward()\n",
    "        optimizer.step()\n",
    "\n",
    "        total_loss += loss.item()\n",
    "        all_preds += output.argmax(1).tolist()\n",
    "        all_labels += y.tolist()\n",
    "\n",
    "    acc = accuracy_score(all_labels, all_preds)\n",
    "    print(f\"Epoch {epoch+1}: Loss = {total_loss:.4f}, Accuracy = {acc:.4f}\")"
   ]
  },
  {
   "cell_type": "code",
   "execution_count": 5,
   "id": "bbbbdc92",
   "metadata": {},
   "outputs": [],
   "source": [
    "def predict(model, file_path):\n",
    "    model.eval()\n",
    "    with open(file_path) as f:\n",
    "        tokens = json.load(f)\n",
    "        tokens = [i if i < 3502 else 0 for i in tokens]\n",
    "        if len(tokens) < 128:\n",
    "            tokens += [0] * (128 - len(tokens))\n",
    "        else:\n",
    "            tokens = tokens[:128]\n",
    "\n",
    "        x = torch.tensor(tokens).unsqueeze(0).to(device)\n",
    "        with torch.no_grad():\n",
    "            out = model(x)\n",
    "            pred = out.argmax(1).item()\n",
    "        return \"ISSUE\" if pred == 1 else \"BENIGN\"\n"
   ]
  }
 ],
 "metadata": {
  "kernelspec": {
   "display_name": "Python 3",
   "language": "python",
   "name": "python3"
  },
  "language_info": {
   "codemirror_mode": {
    "name": "ipython",
    "version": 3
   },
   "file_extension": ".py",
   "mimetype": "text/x-python",
   "name": "python",
   "nbconvert_exporter": "python",
   "pygments_lexer": "ipython3",
   "version": "3.12.4"
  }
 },
 "nbformat": 4,
 "nbformat_minor": 5
}
